{
 "cells": [
  {
   "cell_type": "markdown",
   "id": "e0a0cdb1-712a-4d65-ab47-e2883ca70376",
   "metadata": {},
   "source": [
    "# Data Science Tools and Ecosystem"
   ]
  },
  {
   "cell_type": "markdown",
   "id": "09ab4c45-89a4-4f15-bfae-2af28c7f409b",
   "metadata": {},
   "source": [
    "#### In this notebook, Data Science Tools and Ecosystem are summarized."
   ]
  },
  {
   "attachments": {},
   "cell_type": "markdown",
   "id": "5bafdbb0-28d9-4281-a52a-4ab5ac9b96dd",
   "metadata": {},
   "source": [
    "***Objectives:***\n",
    "- Know which languages are popular for Data Science.\n",
    "- Know which libraries are populas useful to development in Data Science.\n",
    "- know which enviroments are recommended for development in Data Science.\n",
    "\n",
    "  ## Author:\n",
    "  ## Sergio Cupabán"
   ]
  },
  {
   "cell_type": "markdown",
   "id": "0d1015a0-84a3-4f20-8456-4d767110c71e",
   "metadata": {},
   "source": [
    "####   Some of the popular languages that Data Scientists use are:\n",
    "1. Python\n",
    "2. R\n",
    "3. SQL\n",
    "4. Julia\n",
    "5. Java"
   ]
  },
  {
   "cell_type": "markdown",
   "id": "f54c90ef-989c-41e9-9807-2b257efda2c5",
   "metadata": {},
   "source": [
    "#### Some of the commonly used libraries used by Data Scientists include:\n",
    "1. Pandas\n",
    "2. Numpy\n",
    "3. Plotly\n",
    "4. Scikit-learn\n",
    "5. Tensorflow"
   ]
  },
  {
   "cell_type": "markdown",
   "id": "95576586-65b0-4d73-a31d-73636dadf9d2",
   "metadata": {},
   "source": [
    "| DataScience Tools |\n",
    "|---|\n",
    "| JupiterLab |\n",
    "| RStudio |  \n",
    "| Visual Studio Code |"
   ]
  },
  {
   "cell_type": "markdown",
   "id": "33aba914-9cf3-4aef-9d96-442f507cf4b2",
   "metadata": {},
   "source": [
    "### Below are a few examples of evaluating arithmetic expressions in Python.\r\n"
   ]
  },
  {
   "cell_type": "code",
   "execution_count": 36,
   "id": "5425b2d1-ab93-40c4-8d95-ee3a51c53d6f",
   "metadata": {},
   "outputs": [
    {
     "data": {
      "text/plain": [
       "17"
      ]
     },
     "execution_count": 36,
     "metadata": {},
     "output_type": "execute_result"
    }
   ],
   "source": [
    "#### This is a simple arithmetic expression to multiply then add integers.\n",
    "(3*4)+5\n"
   ]
  },
  {
   "cell_type": "code",
   "execution_count": 37,
   "id": "88da2cb5-2f6e-477b-8c10-da0a759764db",
   "metadata": {},
   "outputs": [
    {
     "name": "stdout",
     "output_type": "stream",
     "text": [
      "3.3333333333333335\n"
     ]
    }
   ],
   "source": [
    "#### This will convert 200 minutes to hours by dividing by 60.\n",
    "minutes = 200\n",
    "hours = 200/60\n",
    "print(hours)"
   ]
  },
  {
   "cell_type": "code",
   "execution_count": null,
   "id": "6cd75d6f-eb92-406c-80ff-f47b253164bc",
   "metadata": {},
   "outputs": [],
   "source": []
  }
 ],
 "metadata": {
  "kernelspec": {
   "display_name": "Python 3 (ipykernel)",
   "language": "python",
   "name": "python3"
  },
  "language_info": {
   "codemirror_mode": {
    "name": "ipython",
    "version": 3
   },
   "file_extension": ".py",
   "mimetype": "text/x-python",
   "name": "python",
   "nbconvert_exporter": "python",
   "pygments_lexer": "ipython3",
   "version": "3.11.7"
  }
 },
 "nbformat": 4,
 "nbformat_minor": 5
}
